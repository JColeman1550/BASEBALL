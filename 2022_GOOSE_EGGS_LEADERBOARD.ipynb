{
  "nbformat": 4,
  "nbformat_minor": 0,
  "metadata": {
    "colab": {
      "name": "2022 GOOSE EGGS LEADERBOARD",
      "provenance": [],
      "authorship_tag": "ABX9TyM98D07UaKs12FzYvaqKmYL",
      "include_colab_link": true
    },
    "kernelspec": {
      "name": "python3",
      "display_name": "Python 3"
    },
    "language_info": {
      "name": "python"
    }
  },
  "cells": [
    {
      "cell_type": "markdown",
      "metadata": {
        "id": "view-in-github",
        "colab_type": "text"
      },
      "source": [
        "<a href=\"https://colab.research.google.com/github/JColeman1550/BASEBALL/blob/main/2022_GOOSE_EGGS_LEADERBOARD.ipynb\" target=\"_parent\"><img src=\"https://colab.research.google.com/assets/colab-badge.svg\" alt=\"Open In Colab\"/></a>"
      ]
    },
    {
      "cell_type": "code",
      "execution_count": 1,
      "metadata": {
        "id": "oXIs4KOoV9_E"
      },
      "outputs": [],
      "source": [
        "import pandas as pd\n"
      ]
    },
    {
      "cell_type": "code",
      "source": [
        "df = pd.DataFrame({'Pitcher': ['Garrett Whitlock','Jake Diekman','Matt Barnes','Michael Feliz','Ryan Brasier','Hansel Robles','Hirokazu Sawamura','Josh Taylor','Matt Strahm','Darwinzon Hernandez', 'Austin Davis','Derek Holland','Phillips Valdez','Eduard Bazardo'],\n",
        "                   'Appearences': ['0','0','0','0','0','0','0','0','0','0','0','0','0','0'],\n",
        "                   'Scoreless Innings': ['0','0','0','0','0','0','0','0','0','0','0','0','0','0'],\n",
        "                   'Goose Eggs':  ['0','0','0','0','0','0','0','0','0','0','0','0','0','0'],\n",
        "                    'Broken Eggs' : ['0','0','0','0','0','0','0','0','0','0','0','0','0','0']})\n",
        "print (df)"
      ],
      "metadata": {
        "colab": {
          "base_uri": "https://localhost:8080/"
        },
        "id": "jC_-aue4WZtJ",
        "outputId": "aa424063-2e19-4b98-8971-21146fcd60f3"
      },
      "execution_count": 11,
      "outputs": [
        {
          "output_type": "stream",
          "name": "stdout",
          "text": [
            "                Pitcher Appearences Scoreless Innings Goose Eggs Broken Eggs\n",
            "0      Garrett Whitlock           0                 0          0           0\n",
            "1          Jake Diekman           0                 0          0           0\n",
            "2           Matt Barnes           0                 0          0           0\n",
            "3         Michael Feliz           0                 0          0           0\n",
            "4          Ryan Brasier           0                 0          0           0\n",
            "5         Hansel Robles           0                 0          0           0\n",
            "6     Hirokazu Sawamura           0                 0          0           0\n",
            "7           Josh Taylor           0                 0          0           0\n",
            "8           Matt Strahm           0                 0          0           0\n",
            "9   Darwinzon Hernandez           0                 0          0           0\n",
            "10         Austin Davis           0                 0          0           0\n",
            "11        Derek Holland           0                 0          0           0\n",
            "12      Phillips Valdez           0                 0          0           0\n",
            "13       Eduard Bazardo           0                 0          0           0\n"
          ]
        }
      ]
    }
  ]
}